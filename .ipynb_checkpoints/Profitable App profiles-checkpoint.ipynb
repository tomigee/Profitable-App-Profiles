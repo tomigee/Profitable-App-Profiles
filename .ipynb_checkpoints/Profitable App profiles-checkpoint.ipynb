{
 "cells": [
  {
   "cell_type": "markdown",
   "id": "junior-nickname",
   "metadata": {},
   "source": [
    "# Profitable App profiles for the Google Play and App Store markets\n",
    "\n",
    "The purpose of this project is to analyze the profiles of successful apps in either of these markets, and provide recommendations to developers on what characteristics to build into their next app to ensure its success."
   ]
  },
  {
   "cell_type": "code",
   "execution_count": 82,
   "id": "thick-calcium",
   "metadata": {},
   "outputs": [],
   "source": [
    "from csv import reader as readers\n",
    "# appStorePath = 'Documents/Home/Python/Dataquest/Datasets/AppleStore.csv'\n",
    "appStorePath = 'Datasets/AppleStore.csv'\n",
    "googlePlayPath = 'Datasets/googleplaystore.csv'\n",
    "appStoreData = open(appStorePath)\n",
    "googlePlayData = open(googlePlayPath)\n",
    "appStoreData = list(readers(appStoreData))\n",
    "googlePlayData = list(readers(googlePlayData))"
   ]
  },
  {
   "cell_type": "markdown",
   "id": "illegal-glasgow",
   "metadata": {},
   "source": [
    "Add in predefined function to help us explore the dataset. For details on the Google Play Dataset, go [here](https://www.kaggle.com/lava18/google-play-store-apps). For details on the App Store dataset, go [here](https://www.kaggle.com/ramamet4/app-store-apple-data-set-10k-apps)."
   ]
  },
  {
   "cell_type": "code",
   "execution_count": 83,
   "id": "breathing-germany",
   "metadata": {},
   "outputs": [],
   "source": [
    "def explore_data(dataset, start, end, rows_and_columns=False):\n",
    "    dataset_slice = dataset[start:end]    \n",
    "    for row in dataset_slice:\n",
    "        print(row)\n",
    "        print('\\n') # adds a new (empty) line after each row\n",
    "\n",
    "    if rows_and_columns:\n",
    "        print('Number of rows:', len(dataset))\n",
    "        print('Number of columns:', len(dataset[0]))"
   ]
  },
  {
   "cell_type": "code",
   "execution_count": 84,
   "id": "downtown-mistake",
   "metadata": {},
   "outputs": [
    {
     "name": "stdout",
     "output_type": "stream",
     "text": [
      "['App', 'Category', 'Rating', 'Reviews', 'Size', 'Installs', 'Type', 'Price', 'Content Rating', 'Genres', 'Last Updated', 'Current Ver', 'Android Ver']\n",
      "\n",
      "\n",
      "Number of rows: 10842\n",
      "Number of columns: 13\n"
     ]
    }
   ],
   "source": [
    "explore_data(googlePlayData, 0,1,True)"
   ]
  },
  {
   "cell_type": "markdown",
   "id": "prompt-latex",
   "metadata": {
    "tags": []
   },
   "source": [
    "# Data Cleaning"
   ]
  },
  {
   "cell_type": "markdown",
   "id": "c82402dd-3962-46da-95cb-0a3ec912b764",
   "metadata": {},
   "source": [
    "## Removing inaccurate data"
   ]
  },
  {
   "cell_type": "markdown",
   "id": "digital-float",
   "metadata": {},
   "source": [
    "First off, let's remove the header row in this dataset"
   ]
  },
  {
   "cell_type": "code",
   "execution_count": 85,
   "id": "essential-isaac",
   "metadata": {},
   "outputs": [],
   "source": [
    "del appStoreData[0]\n",
    "del googlePlayData[0]"
   ]
  },
  {
   "cell_type": "markdown",
   "id": "continuous-mixer",
   "metadata": {},
   "source": [
    "Based on this Kaggle [discussion](https://www.kaggle.com/lava18/google-play-store-apps/discussion/66015), right off the bat we need to delete one entry in the Google Play Dataset."
   ]
  },
  {
   "cell_type": "code",
   "execution_count": 86,
   "id": "loaded-background",
   "metadata": {},
   "outputs": [],
   "source": [
    "del googlePlayData[10473]"
   ]
  },
  {
   "cell_type": "markdown",
   "id": "5087768d-0a33-45d9-804f-3a04b48559ea",
   "metadata": {},
   "source": [
    "## Removing duplicate entries"
   ]
  },
  {
   "cell_type": "markdown",
   "id": "elect-persian",
   "metadata": {},
   "source": [
    "Now let's create a function that searches for duplicate app entries..."
   ]
  },
  {
   "cell_type": "code",
   "execution_count": 87,
   "id": "unlike-knife",
   "metadata": {},
   "outputs": [],
   "source": [
    "def find_duplicate_entries(dataset):\n",
    "    duplicate_apps = []\n",
    "    unique_apps = []\n",
    "    for entry in dataset:\n",
    "        name = entry[0]\n",
    "        if name in unique_apps:\n",
    "            duplicate_apps.append(name)\n",
    "        else:\n",
    "            unique_apps.append(name)\n",
    "            \n",
    "    return duplicate_apps"
   ]
  },
  {
   "cell_type": "markdown",
   "id": "pediatric-crash",
   "metadata": {},
   "source": [
    "...and use it to find duplicate entries in both datasets"
   ]
  },
  {
   "cell_type": "code",
   "execution_count": 88,
   "id": "interior-checklist",
   "metadata": {},
   "outputs": [
    {
     "name": "stdout",
     "output_type": "stream",
     "text": [
      "[]\n",
      "['Quick PDF Scanner + OCR FREE', 'Box', 'Google My Business']\n",
      "Google Play dataset has 1180 repeated entries\n"
     ]
    }
   ],
   "source": [
    "appStore_duplicate_apps = find_duplicate_entries(appStoreData)\n",
    "googlePlay_duplicate_apps = find_duplicate_entries(googlePlayData)\n",
    "print(appStore_duplicate_apps[:3])\n",
    "print(googlePlay_duplicate_apps[:3])\n",
    "print('Google Play dataset has {} repeated entries'.format(len(googlePlay_duplicate_apps)))"
   ]
  },
  {
   "cell_type": "markdown",
   "id": "established-banks",
   "metadata": {},
   "source": [
    "Looks like the Google Play dataset has quite a few repeated entries while the App store dataset has none. Let's explore one of these duplicates (Instagram)"
   ]
  },
  {
   "cell_type": "code",
   "execution_count": 89,
   "id": "informative-group",
   "metadata": {},
   "outputs": [
    {
     "name": "stdout",
     "output_type": "stream",
     "text": [
      "['Instagram', 'SOCIAL', '4.5', '66577313', 'Varies with device', '1,000,000,000+', 'Free', '0', 'Teen', 'Social', 'July 31, 2018', 'Varies with device', 'Varies with device']\n",
      "['Instagram', 'SOCIAL', '4.5', '66577446', 'Varies with device', '1,000,000,000+', 'Free', '0', 'Teen', 'Social', 'July 31, 2018', 'Varies with device', 'Varies with device']\n",
      "['Instagram', 'SOCIAL', '4.5', '66577313', 'Varies with device', '1,000,000,000+', 'Free', '0', 'Teen', 'Social', 'July 31, 2018', 'Varies with device', 'Varies with device']\n",
      "['Instagram', 'SOCIAL', '4.5', '66509917', 'Varies with device', '1,000,000,000+', 'Free', '0', 'Teen', 'Social', 'July 31, 2018', 'Varies with device', 'Varies with device']\n"
     ]
    }
   ],
   "source": [
    "for entry in googlePlayData:\n",
    "    name = entry[0]\n",
    "    if name == \"Instagram\":\n",
    "        print(entry)"
   ]
  },
  {
   "cell_type": "markdown",
   "id": "approximate-valley",
   "metadata": {},
   "source": [
    "Looks like one of the notable differences between these duplicate entries is the # of reviews. Logically, the more reviews an entry has, the more recent the entry is. So let's use this as a data cleanup rule: for all duplicate entries, keep only the entry with the highest number of reviews. To enact this rule, first we create a helper function that converts the number of ratings into a float"
   ]
  },
  {
   "cell_type": "code",
   "execution_count": 90,
   "id": "moved-fabric",
   "metadata": {},
   "outputs": [],
   "source": [
    "def convert_to_float(number_as_string):\n",
    "    if 'M' in number_as_string:\n",
    "        result = float(number_as_string.split('M')[0])*(10**6)\n",
    "    else:\n",
    "        result = float(number_as_string)\n",
    "    \n",
    "    return result"
   ]
  },
  {
   "cell_type": "markdown",
   "id": "static-girlfriend",
   "metadata": {},
   "source": [
    "Then we create a dictionary `reviews_max` to store the name and corresponding maximum number of reviews for all apps. Using this dictionary, we iterate through the entire `googlePlayData` and store only the entries whose names and number of reviews correspond to those found in `reviews_max`"
   ]
  },
  {
   "cell_type": "code",
   "execution_count": 91,
   "id": "educated-vehicle",
   "metadata": {},
   "outputs": [],
   "source": [
    "reviews_max = {}\n",
    "for app in googlePlayData:\n",
    "    name = app[0]\n",
    "    if (name in reviews_max) and (reviews_max[name] < convert_to_float(app[3])):\n",
    "        reviews_max[name] = convert_to_float(app[3])\n",
    "    elif name not in reviews_max:\n",
    "        reviews_max[name] = convert_to_float(app[3])\n",
    "\n",
    "googlePlayData_clean = []\n",
    "already_added = []\n",
    "\n",
    "for app in googlePlayData:\n",
    "    name = app[0]\n",
    "    n_reviews = convert_to_float(app[3])\n",
    "    if name not in already_added and n_reviews == reviews_max[name]:\n",
    "        googlePlayData_clean.append(app)\n",
    "        already_added.append(name)"
   ]
  },
  {
   "cell_type": "code",
   "execution_count": 92,
   "id": "de65779e-456a-47db-9fbb-8bcde6b16c3d",
   "metadata": {},
   "outputs": [],
   "source": [
    "googlePlayData = googlePlayData_clean #optional cell just to keep the naming/nomenclature clean and consistent"
   ]
  },
  {
   "cell_type": "markdown",
   "id": "60c30281-f2dd-4f94-a3d9-edabed80f4db",
   "metadata": {
    "tags": []
   },
   "source": [
    "## Removing non-english apps"
   ]
  },
  {
   "cell_type": "code",
   "execution_count": 93,
   "id": "aware-willow",
   "metadata": {},
   "outputs": [],
   "source": [
    "def check_if_english(name):\n",
    "    flag_count = 0\n",
    "    i = 0\n",
    "    while (flag_count < 3) and (i <= len(name)-1):\n",
    "        if ord(name[i]) > 127:\n",
    "            flag_count += 1\n",
    "            i += 1\n",
    "        else:\n",
    "            i += 1\n",
    "    if flag_count < 3:\n",
    "        result = True\n",
    "    else:\n",
    "        result = False\n",
    "        \n",
    "    return result"
   ]
  },
  {
   "cell_type": "markdown",
   "id": "d10d7aa6-47ca-4845-b42a-2543963d3d51",
   "metadata": {},
   "source": [
    "We can use the function above to screen-out non-english apps (it's not foolproof, but it should be fairly effective). Let's screen out non-english apps below."
   ]
  },
  {
   "cell_type": "code",
   "execution_count": 94,
   "id": "0b83da73-7e95-4134-96a0-84a6dd6fbe52",
   "metadata": {},
   "outputs": [],
   "source": [
    "googlePlayData_english = []\n",
    "for entry in googlePlayData:\n",
    "    if check_if_english(entry[0]):\n",
    "        googlePlayData_english.append(entry)"
   ]
  },
  {
   "cell_type": "code",
   "execution_count": 95,
   "id": "d6281b00-424b-41e2-8534-227254f8dfc7",
   "metadata": {},
   "outputs": [],
   "source": [
    "appStoreData_english = []\n",
    "for entry in appStoreData:\n",
    "    if check_if_english(entry[1]):\n",
    "        appStoreData_english.append(entry)"
   ]
  },
  {
   "cell_type": "markdown",
   "id": "a1b043de-4fad-443a-b7ef-d6cc229d6441",
   "metadata": {},
   "source": [
    "Check to make sure some apps were actually screened out (the length of googlePlayData_english should be less than or equal to that of googlePlayData, same for appStoreData)"
   ]
  },
  {
   "cell_type": "code",
   "execution_count": 96,
   "id": "danish-vision",
   "metadata": {},
   "outputs": [
    {
     "name": "stdout",
     "output_type": "stream",
     "text": [
      "9598\n",
      "9660\n",
      "6155\n",
      "7197\n"
     ]
    }
   ],
   "source": [
    "print(len(googlePlayData_english))\n",
    "print(len(googlePlayData))\n",
    "print(len(appStoreData_english))\n",
    "print(len(appStoreData))"
   ]
  },
  {
   "cell_type": "code",
   "execution_count": 97,
   "id": "e3c13e98-a06f-4008-adbf-4ff1e8d21b91",
   "metadata": {},
   "outputs": [],
   "source": [
    "appStoreData = appStoreData_english\n",
    "googlePlayData = googlePlayData_english"
   ]
  },
  {
   "cell_type": "markdown",
   "id": "c22561f4-0085-4b0c-9a11-0689fe31df75",
   "metadata": {
    "tags": []
   },
   "source": [
    "## Removing non-free apps"
   ]
  },
  {
   "cell_type": "markdown",
   "id": "a0400a47-aa17-4192-81a3-bba2613e889d",
   "metadata": {},
   "source": [
    "We're only interested in free apps, so let's screen out the non-free apps."
   ]
  },
  {
   "cell_type": "code",
   "execution_count": 98,
   "id": "ad3fc6a2-af1f-4044-9fe7-ecbb78f42d3b",
   "metadata": {},
   "outputs": [
    {
     "name": "stdout",
     "output_type": "stream",
     "text": [
      "[['Photo Editor & Candy Camera & Grid & ScrapBook', 'ART_AND_DESIGN', '4.1', '159', '19M', '10,000+', 'Free', '0', 'Everyone', 'Art & Design', 'January 7, 2018', '1.0.0', '4.0.3 and up'], ['U Launcher Lite – FREE Live Cool Themes, Hide Apps', 'ART_AND_DESIGN', '4.7', '87510', '8.7M', '5,000,000+', 'Free', '0', 'Everyone', 'Art & Design', 'August 1, 2018', '1.2.4', '4.0.3 and up'], ['Sketch - Draw & Paint', 'ART_AND_DESIGN', '4.5', '215644', '25M', '50,000,000+', 'Free', '0', 'Teen', 'Art & Design', 'June 8, 2018', 'Varies with device', '4.2 and up']]\n"
     ]
    }
   ],
   "source": [
    "print(googlePlayData[:3])"
   ]
  },
  {
   "cell_type": "code",
   "execution_count": 99,
   "id": "edc2abae-31da-4bbb-8b67-37acf0c72045",
   "metadata": {},
   "outputs": [],
   "source": [
    "appStoreData_free = []\n",
    "for entry in appStoreData:\n",
    "    if entry[4] == '0.0':\n",
    "        appStoreData_free.append(entry)\n",
    "        \n",
    "googlePlayData_free = []\n",
    "for entry in googlePlayData:\n",
    "    if entry[6] == 'Free':\n",
    "        googlePlayData_free.append(entry)"
   ]
  },
  {
   "cell_type": "markdown",
   "id": "2ab2b701-6873-401c-bbac-80a2a84e7c8e",
   "metadata": {},
   "source": [
    "Check for expected behavior"
   ]
  },
  {
   "cell_type": "code",
   "execution_count": 100,
   "id": "18dd1703-3100-4e36-bdb2-9851a1c096c2",
   "metadata": {},
   "outputs": [
    {
     "name": "stdout",
     "output_type": "stream",
     "text": [
      "8847\n",
      "9598\n",
      "3203\n",
      "6155\n"
     ]
    }
   ],
   "source": [
    "print(len(googlePlayData_free))\n",
    "print(len(googlePlayData))\n",
    "print(len(appStoreData_free))\n",
    "print(len(appStoreData))"
   ]
  },
  {
   "cell_type": "code",
   "execution_count": 101,
   "id": "d31937e3-8d4b-4ba2-9a89-e7bbb94a1b89",
   "metadata": {},
   "outputs": [],
   "source": [
    "appStoreData = appStoreData_free\n",
    "googlePlayData = googlePlayData_free"
   ]
  },
  {
   "cell_type": "markdown",
   "id": "a69d44ee-f28b-439a-a623-2e98bc1ebaae",
   "metadata": {},
   "source": [
    "# Data Analysis"
   ]
  },
  {
   "cell_type": "markdown",
   "id": "74a4c703-0282-434f-bd49-5ffa7a82c351",
   "metadata": {},
   "source": [
    "Since our hope is to eventually publish an app on both the Google Play Store and the App Store, we need to learn what app profiles are profitable on both platforms. Roughly speaking the validation strategy (to gauge whether or not there is a market for this app) is as follows:\n",
    "1. Publish a barebones version of the app on the Google Play store.\n",
    "2. If we see traction, we develop the app further\n",
    "3. If the app is profitable in six months, we create an iOS version of the app and publish it to the App store.\n",
    "\n",
    "We need to find the most popular/common genres on each of the platforms. We'll do this by looking at something like the number of ratings or downloads for each type of app."
   ]
  },
  {
   "cell_type": "markdown",
   "id": "492c87c3-8f74-4ec3-8142-52e247c284f9",
   "metadata": {},
   "source": [
    "Let's start by defining some helper functions"
   ]
  },
  {
   "cell_type": "code",
   "execution_count": 102,
   "id": "4ffb77f2-9b19-40a2-957c-5aa4cf3bd149",
   "metadata": {},
   "outputs": [],
   "source": [
    "def display_table(dataset, index):\n",
    "    table = freq_table(dataset, index)\n",
    "    table_display = []\n",
    "    for key in table:\n",
    "        key_val_as_tuple = (table[key], key)\n",
    "        table_display.append(key_val_as_tuple)\n",
    "\n",
    "    table_sorted = sorted(table_display, reverse = True)\n",
    "    for entry in table_sorted:\n",
    "        print(entry[1], ':', entry[0])\n",
    "        \n",
    "def freq_table(dataset, index):\n",
    "    result = {}\n",
    "    for entry in dataset:\n",
    "        if entry[index] in result:\n",
    "            result[entry[index]] += 1\n",
    "        else:\n",
    "            result[entry[index]] = 1\n",
    "            \n",
    "    for item in result:\n",
    "        result[item] = round((result[item]/len(dataset))*100, 2)\n",
    "    return result"
   ]
  },
  {
   "cell_type": "markdown",
   "id": "9b1e0446-bc5d-4317-a3af-4ba9ebdd9791",
   "metadata": {},
   "source": [
    "## Popularity by Genre (Market Competition)"
   ]
  },
  {
   "cell_type": "markdown",
   "id": "2c596345-c500-4e0d-8310-1b03f1efc8c8",
   "metadata": {},
   "source": [
    "Let's take a look at App store data first."
   ]
  },
  {
   "cell_type": "code",
   "execution_count": 103,
   "id": "19e2cc4d-ce65-436b-8898-70b05c86af65",
   "metadata": {},
   "outputs": [
    {
     "name": "stdout",
     "output_type": "stream",
     "text": [
      "Games : 58.26\n",
      "Entertainment : 7.84\n",
      "Photo & Video : 5.0\n",
      "Education : 3.68\n",
      "Social Networking : 3.31\n",
      "Shopping : 2.59\n",
      "Utilities : 2.47\n",
      "Sports : 2.15\n",
      "Music : 2.06\n",
      "Health & Fitness : 2.03\n",
      "Productivity : 1.75\n",
      "Lifestyle : 1.56\n",
      "News : 1.34\n",
      "Travel : 1.25\n",
      "Finance : 1.09\n",
      "Weather : 0.87\n",
      "Food & Drink : 0.81\n",
      "Reference : 0.53\n",
      "Business : 0.53\n",
      "Book : 0.37\n",
      "Navigation : 0.19\n",
      "Medical : 0.19\n",
      "Catalogs : 0.12\n"
     ]
    }
   ],
   "source": [
    "display_table(appStoreData, 11)"
   ]
  },
  {
   "cell_type": "markdown",
   "id": "d29f6cdb-cf7d-4162-9929-e33b4bb1ba41",
   "metadata": {},
   "source": [
    "Right off the bat, it looks like, amongst free english apps on the app-store, most of them are games, and then entertainment apps, and then educational apps. This doesn't necessarily mean that these app genres are the most popular among users; it just means that these are the prevalent apps (by shear number) on the App Store, and if anything, indicates how much competition we would have in this apce were we to create an app in any of these categories. Additionally, it looks like very few apps fall into catalogs, medical, and navigation categories, perhaps because of how much data/regulation/infrastructure is necessary to make an App in this space.\n",
    "\n",
    "Next let's take a look at Google Play data."
   ]
  },
  {
   "cell_type": "code",
   "execution_count": 104,
   "id": "40b864eb-3588-4d27-b2a0-520dc93efaf3",
   "metadata": {},
   "outputs": [
    {
     "name": "stdout",
     "output_type": "stream",
     "text": [
      "FAMILY : 18.93\n",
      "GAME : 9.7\n",
      "TOOLS : 8.45\n",
      "BUSINESS : 4.6\n",
      "PRODUCTIVITY : 3.9\n",
      "LIFESTYLE : 3.89\n",
      "FINANCE : 3.71\n",
      "MEDICAL : 3.54\n",
      "SPORTS : 3.39\n",
      "PERSONALIZATION : 3.32\n",
      "COMMUNICATION : 3.23\n",
      "HEALTH_AND_FITNESS : 3.09\n",
      "PHOTOGRAPHY : 2.95\n",
      "NEWS_AND_MAGAZINES : 2.8\n",
      "SOCIAL : 2.67\n",
      "TRAVEL_AND_LOCAL : 2.34\n",
      "SHOPPING : 2.25\n",
      "BOOKS_AND_REFERENCE : 2.14\n",
      "DATING : 1.87\n",
      "VIDEO_PLAYERS : 1.8\n",
      "MAPS_AND_NAVIGATION : 1.39\n",
      "FOOD_AND_DRINK : 1.24\n",
      "EDUCATION : 1.16\n",
      "ENTERTAINMENT : 0.96\n",
      "LIBRARIES_AND_DEMO : 0.94\n",
      "AUTO_AND_VEHICLES : 0.93\n",
      "HOUSE_AND_HOME : 0.8\n",
      "WEATHER : 0.79\n",
      "EVENTS : 0.71\n",
      "PARENTING : 0.66\n",
      "ART_AND_DESIGN : 0.64\n",
      "COMICS : 0.61\n",
      "BEAUTY : 0.6\n",
      "Tools : 8.44\n",
      "Entertainment : 6.08\n",
      "Education : 5.36\n",
      "Business : 4.6\n",
      "Productivity : 3.9\n",
      "Lifestyle : 3.88\n",
      "Finance : 3.71\n",
      "Medical : 3.54\n",
      "Sports : 3.46\n",
      "Personalization : 3.32\n",
      "Communication : 3.23\n",
      "Action : 3.1\n",
      "Health & Fitness : 3.09\n",
      "Photography : 2.95\n",
      "News & Magazines : 2.8\n",
      "Social : 2.67\n",
      "Travel & Local : 2.33\n",
      "Shopping : 2.25\n",
      "Books & Reference : 2.14\n",
      "Simulation : 2.05\n",
      "Dating : 1.87\n",
      "Arcade : 1.84\n",
      "Video Players & Editors : 1.77\n",
      "Casual : 1.76\n",
      "Maps & Navigation : 1.39\n",
      "Food & Drink : 1.24\n",
      "Puzzle : 1.13\n",
      "Racing : 0.99\n",
      "Role Playing : 0.94\n",
      "Libraries & Demo : 0.94\n",
      "Auto & Vehicles : 0.93\n",
      "Strategy : 0.9\n",
      "House & Home : 0.8\n",
      "Weather : 0.79\n",
      "Events : 0.71\n",
      "Adventure : 0.67\n",
      "Comics : 0.6\n",
      "Beauty : 0.6\n",
      "Art & Design : 0.6\n",
      "Parenting : 0.5\n",
      "Card : 0.45\n",
      "Trivia : 0.42\n",
      "Casino : 0.42\n",
      "Educational;Education : 0.4\n",
      "Board : 0.38\n",
      "Educational : 0.37\n",
      "Education;Education : 0.34\n",
      "Word : 0.26\n",
      "Casual;Pretend Play : 0.24\n",
      "Music : 0.2\n",
      "Racing;Action & Adventure : 0.17\n",
      "Puzzle;Brain Games : 0.17\n",
      "Entertainment;Music & Video : 0.17\n",
      "Casual;Brain Games : 0.14\n",
      "Casual;Action & Adventure : 0.14\n",
      "Arcade;Action & Adventure : 0.12\n",
      "Action;Action & Adventure : 0.1\n",
      "Educational;Pretend Play : 0.09\n",
      "Simulation;Action & Adventure : 0.08\n",
      "Parenting;Education : 0.08\n",
      "Entertainment;Brain Games : 0.08\n",
      "Board;Brain Games : 0.08\n",
      "Parenting;Music & Video : 0.07\n",
      "Educational;Brain Games : 0.07\n",
      "Casual;Creativity : 0.07\n",
      "Art & Design;Creativity : 0.07\n",
      "Education;Pretend Play : 0.06\n",
      "Role Playing;Pretend Play : 0.05\n",
      "Education;Creativity : 0.05\n",
      "Role Playing;Action & Adventure : 0.03\n",
      "Puzzle;Action & Adventure : 0.03\n",
      "Entertainment;Creativity : 0.03\n",
      "Entertainment;Action & Adventure : 0.03\n",
      "Educational;Creativity : 0.03\n",
      "Educational;Action & Adventure : 0.03\n",
      "Education;Music & Video : 0.03\n",
      "Education;Brain Games : 0.03\n",
      "Education;Action & Adventure : 0.03\n",
      "Adventure;Action & Adventure : 0.03\n",
      "Video Players & Editors;Music & Video : 0.02\n",
      "Sports;Action & Adventure : 0.02\n",
      "Simulation;Pretend Play : 0.02\n",
      "Puzzle;Creativity : 0.02\n",
      "Music;Music & Video : 0.02\n",
      "Entertainment;Pretend Play : 0.02\n",
      "Casual;Education : 0.02\n",
      "Board;Action & Adventure : 0.02\n",
      "Video Players & Editors;Creativity : 0.01\n",
      "Trivia;Education : 0.01\n",
      "Travel & Local;Action & Adventure : 0.01\n",
      "Tools;Education : 0.01\n",
      "Strategy;Education : 0.01\n",
      "Strategy;Creativity : 0.01\n",
      "Strategy;Action & Adventure : 0.01\n",
      "Simulation;Education : 0.01\n",
      "Role Playing;Brain Games : 0.01\n",
      "Racing;Pretend Play : 0.01\n",
      "Puzzle;Education : 0.01\n",
      "Parenting;Brain Games : 0.01\n",
      "Music & Audio;Music & Video : 0.01\n",
      "Lifestyle;Pretend Play : 0.01\n",
      "Lifestyle;Education : 0.01\n",
      "Health & Fitness;Education : 0.01\n",
      "Health & Fitness;Action & Adventure : 0.01\n",
      "Entertainment;Education : 0.01\n",
      "Communication;Creativity : 0.01\n",
      "Comics;Creativity : 0.01\n",
      "Casual;Music & Video : 0.01\n",
      "Card;Action & Adventure : 0.01\n",
      "Books & Reference;Education : 0.01\n",
      "Art & Design;Pretend Play : 0.01\n",
      "Art & Design;Action & Adventure : 0.01\n",
      "Arcade;Pretend Play : 0.01\n",
      "Adventure;Education : 0.01\n"
     ]
    }
   ],
   "source": [
    "display_table(googlePlayData, 1) #category\n",
    "display_table(googlePlayData, 9) #genres"
   ]
  },
  {
   "cell_type": "markdown",
   "id": "1c385d1e-b7ef-451a-a784-359a98911465",
   "metadata": {},
   "source": [
    "Seems like first of all, Google Play store has a higher number of effective \"categories\". This would likely prevent us from making strong 1:1 comparisons between App store and the Google Play store. A possible way to get a better 1:1 comparison is by grouping Google Play's categories into umbrella categories that are similar to the App store categories. Just an aside.\n",
    "\n",
    "Overall it seems like Family apps, gaming apps, and tools apps comprise most of the free english apps on Google Play. The prevalent app genres are Tools, entertainment, and education. It seems like the app store and play store have some similarity in that the gaming apps, entertainment apps, and educational apps are among the most prevalent.\n",
    "\n",
    "In order to recommend an app for the developers of this company though, we'd want to look at the size of the user base of all app genres."
   ]
  },
  {
   "cell_type": "markdown",
   "id": "29e1980e-178f-4acd-9860-6ae9e5cc5b81",
   "metadata": {},
   "source": [
    "## Popularity by size of user base"
   ]
  },
  {
   "cell_type": "markdown",
   "id": "25a3ccc8-6888-4115-802c-90a400ff830f",
   "metadata": {},
   "source": [
    "Let's first define a helper function"
   ]
  },
  {
   "cell_type": "code",
   "execution_count": 109,
   "id": "2515c9b7-718f-496e-99c6-f0ac8c2c90e8",
   "metadata": {},
   "outputs": [],
   "source": [
    "def display_table_descending(table):\n",
    "    table_display = []\n",
    "    for key in table:\n",
    "        key_val_as_tuple = (table[key], key)\n",
    "        table_display.append(key_val_as_tuple)\n",
    "\n",
    "    table_sorted = sorted(table_display, reverse = True)\n",
    "    for entry in table_sorted:\n",
    "        print(entry[1], ':', entry[0])"
   ]
  },
  {
   "cell_type": "code",
   "execution_count": 105,
   "id": "84bcb526-ee71-4a14-95b4-05aa3a264214",
   "metadata": {},
   "outputs": [],
   "source": [
    "appStoreGenreFreqTable = freq_table(appStoreData, 11)\n",
    "appStoreAppsPerGenre = appStoreGenreFreqTable.copy()\n",
    "appStoreRatingsPerGenre = appStoreGenreFreqTable.copy() # total ratings, not average\n",
    "for genre in appStoreAppsPerGenre:\n",
    "    appStoreAppsPerGenre[genre] = 0 # resetting the list\n",
    "    appStoreRatingsPerGenre[genre] = 0 # resetting the list\n",
    "\n",
    "for entry in appStoreData:\n",
    "    entry_genre = entry[11]\n",
    "    appStoreAppsPerGenre[entry_genre] += 1\n",
    "    appStoreRatingsPerGenre[entry_genre] += int(entry[5])\n",
    "    \n",
    "avgappStoreRatingsPerGenre = {}\n",
    "for genre in appStoreRatingsPerGenre: # calculating average ratings\n",
    "    avgappStoreRatingsPerGenre[genre] = appStoreRatingsPerGenre[genre]/appStoreAppsPerGenre[genre]"
   ]
  },
  {
   "cell_type": "code",
   "execution_count": 110,
   "id": "b5aa1445-4039-45aa-80b0-6aac0b7f9ff9",
   "metadata": {},
   "outputs": [
    {
     "name": "stdout",
     "output_type": "stream",
     "text": [
      "{'Social Networking': 106, 'Photo & Video': 160, 'Games': 1866, 'Music': 66, 'Reference': 17, 'Health & Fitness': 65, 'Weather': 28, 'Utilities': 79, 'Travel': 40, 'Shopping': 83, 'News': 43, 'Navigation': 6, 'Lifestyle': 50, 'Entertainment': 251, 'Food & Drink': 26, 'Sports': 69, 'Book': 12, 'Finance': 35, 'Education': 118, 'Productivity': 56, 'Business': 17, 'Catalogs': 4, 'Medical': 6}\n",
      "{'Social Networking': 7584125, 'Photo & Video': 4550647, 'Games': 42705961, 'Music': 3783551, 'Reference': 1348958, 'Health & Fitness': 1514371, 'Weather': 1463837, 'Utilities': 1513363, 'Travel': 1129752, 'Shopping': 2260151, 'News': 913665, 'Navigation': 516542, 'Lifestyle': 840774, 'Entertainment': 3563035, 'Food & Drink': 866682, 'Sports': 1587614, 'Book': 556619, 'Finance': 1132846, 'Education': 826470, 'Productivity': 1177591, 'Business': 127349, 'Catalogs': 16016, 'Medical': 3672}\n",
      "Navigation : 86090.33333333333\n",
      "Reference : 79350.4705882353\n",
      "Social Networking : 71548.34905660378\n",
      "Music : 57326.530303030304\n",
      "Weather : 52279.892857142855\n",
      "Book : 46384.916666666664\n",
      "Food & Drink : 33333.92307692308\n",
      "Finance : 32367.02857142857\n",
      "Photo & Video : 28441.54375\n",
      "Travel : 28243.8\n",
      "Shopping : 27230.734939759037\n",
      "Health & Fitness : 23298.015384615384\n",
      "Sports : 23008.898550724636\n",
      "Games : 22886.36709539121\n",
      "News : 21248.023255813954\n",
      "Productivity : 21028.410714285714\n",
      "Utilities : 19156.493670886077\n",
      "Lifestyle : 16815.48\n",
      "Entertainment : 14195.358565737051\n",
      "Business : 7491.117647058823\n",
      "Education : 7003.983050847458\n",
      "Catalogs : 4004.0\n",
      "Medical : 612.0\n"
     ]
    }
   ],
   "source": [
    "print(appStoreAppsPerGenre)\n",
    "print(appStoreRatingsPerGenre)\n",
    "display_table_descending(avgappStoreRatingsPerGenre)"
   ]
  },
  {
   "cell_type": "markdown",
   "id": "d0dc0f73-47ed-41ca-a4f7-d986a739c894",
   "metadata": {},
   "source": [
    "Purely by the numbers, I'd recommend developing a navigation app, or reference app, or a social networking app, in that order (if developing for the app store). Social networking and navigation markets are already dominated by a few key players, so I'd recommend shooting for a reference app. Now let's repeat the same analysis for the Google Play dataset."
   ]
  },
  {
   "cell_type": "code",
   "execution_count": 107,
   "id": "b3146052-8cf1-43f3-b23c-f10da65ec9ab",
   "metadata": {},
   "outputs": [],
   "source": [
    "def number_parser(string_to_parse):\n",
    "    result = string_to_parse.replace(\",\",\"\")\n",
    "    result = result.replace(\"+\",\"\")\n",
    "    result = float(result)\n",
    "    return result\n",
    "\n",
    "googlePlayGenreFreqTable = freq_table(googlePlayData, 1)\n",
    "googlePlayAppsPerGenre = googlePlayGenreFreqTable.copy()\n",
    "googlePlayRatingsPerGenre = googlePlayGenreFreqTable.copy() #total ratings not average\n",
    "\n",
    "for genre in googlePlayAppsPerGenre:\n",
    "    googlePlayAppsPerGenre[genre] = 0 # resetting the list\n",
    "    googlePlayRatingsPerGenre[genre] = 0 # resetting the list\n",
    "    \n",
    "i = 0\n",
    "for entry in googlePlayData:\n",
    "    entry_genre = entry[1]\n",
    "    googlePlayAppsPerGenre[entry_genre] += 1\n",
    "    googlePlayRatingsPerGenre[entry_genre] += number_parser(entry[5])\n",
    "    i += 1\n",
    "    \n",
    "avgGooglePlayRatingsPerGenre = {}\n",
    "for genre in googlePlayRatingsPerGenre: # calculating average ratings\n",
    "    avgGooglePlayRatingsPerGenre[genre] = googlePlayRatingsPerGenre[genre]/googlePlayAppsPerGenre[genre]"
   ]
  },
  {
   "cell_type": "code",
   "execution_count": 111,
   "id": "2d260537-b9fd-462a-a741-50fe789b5da7",
   "metadata": {},
   "outputs": [
    {
     "name": "stdout",
     "output_type": "stream",
     "text": [
      "{'ART_AND_DESIGN': 57, 'AUTO_AND_VEHICLES': 82, 'BEAUTY': 53, 'BOOKS_AND_REFERENCE': 189, 'BUSINESS': 407, 'COMICS': 54, 'COMMUNICATION': 286, 'DATING': 165, 'EDUCATION': 103, 'ENTERTAINMENT': 85, 'EVENTS': 63, 'FINANCE': 328, 'FOOD_AND_DRINK': 110, 'HEALTH_AND_FITNESS': 273, 'HOUSE_AND_HOME': 71, 'LIBRARIES_AND_DEMO': 83, 'LIFESTYLE': 344, 'GAME': 858, 'FAMILY': 1675, 'MEDICAL': 313, 'SOCIAL': 236, 'SHOPPING': 199, 'PHOTOGRAPHY': 261, 'SPORTS': 300, 'TRAVEL_AND_LOCAL': 207, 'TOOLS': 748, 'PERSONALIZATION': 294, 'PRODUCTIVITY': 345, 'PARENTING': 58, 'WEATHER': 70, 'VIDEO_PLAYERS': 159, 'NEWS_AND_MAGAZINES': 248, 'MAPS_AND_NAVIGATION': 123}\n",
      "{'ART_AND_DESIGN': 113221100.0, 'AUTO_AND_VEHICLES': 53080061.0, 'BEAUTY': 27197050.0, 'BOOKS_AND_REFERENCE': 1665883760.0, 'BUSINESS': 696902090.0, 'COMICS': 44961150.0, 'COMMUNICATION': 11036906191.0, 'DATING': 140914757.0, 'EDUCATION': 188850000.0, 'ENTERTAINMENT': 989460000.0, 'EVENTS': 15973160.0, 'FINANCE': 455163132.0, 'FOOD_AND_DRINK': 211738751.0, 'HEALTH_AND_FITNESS': 1143548402.0, 'HOUSE_AND_HOME': 96602461.0, 'LIBRARIES_AND_DEMO': 52995810.0, 'LIFESTYLE': 497478429.0, 'GAME': 13336764450.0, 'FAMILY': 6193895690.0, 'MEDICAL': 37732344.0, 'SOCIAL': 5487861902.0, 'SHOPPING': 1400338585.0, 'PHOTOGRAPHY': 4656268815.0, 'SPORTS': 1095180683.0, 'TRAVEL_AND_LOCAL': 2894704086.0, 'TOOLS': 8101028474.0, 'PERSONALIZATION': 1529235888.0, 'PRODUCTIVITY': 5791629314.0, 'PARENTING': 31471010.0, 'WEATHER': 360188520.0, 'VIDEO_PLAYERS': 3931731720.0, 'NEWS_AND_MAGAZINES': 2368196260.0, 'MAPS_AND_NAVIGATION': 498060780.0}\n",
      "COMMUNICATION : 38590581.08741259\n",
      "VIDEO_PLAYERS : 24727872.452830188\n",
      "SOCIAL : 23253652.127118643\n",
      "PHOTOGRAPHY : 17840110.40229885\n",
      "PRODUCTIVITY : 16787331.344927534\n",
      "GAME : 15544014.51048951\n",
      "TRAVEL_AND_LOCAL : 13984077.710144928\n",
      "ENTERTAINMENT : 11640705.88235294\n",
      "TOOLS : 10830251.970588235\n",
      "NEWS_AND_MAGAZINES : 9549178.467741935\n",
      "BOOKS_AND_REFERENCE : 8814199.78835979\n",
      "SHOPPING : 7036877.311557789\n",
      "PERSONALIZATION : 5201482.6122448975\n",
      "WEATHER : 5145550.285714285\n",
      "HEALTH_AND_FITNESS : 4188821.9853479853\n",
      "MAPS_AND_NAVIGATION : 4049274.6341463416\n",
      "FAMILY : 3697848.1731343283\n",
      "SPORTS : 3650602.276666667\n",
      "ART_AND_DESIGN : 1986335.0877192982\n",
      "FOOD_AND_DRINK : 1924897.7363636363\n",
      "EDUCATION : 1833495.145631068\n",
      "BUSINESS : 1712290.1474201474\n",
      "LIFESTYLE : 1446158.2238372094\n",
      "FINANCE : 1387692.475609756\n",
      "HOUSE_AND_HOME : 1360598.042253521\n",
      "DATING : 854028.8303030303\n",
      "COMICS : 832613.8888888889\n",
      "AUTO_AND_VEHICLES : 647317.8170731707\n",
      "LIBRARIES_AND_DEMO : 638503.734939759\n",
      "PARENTING : 542603.6206896552\n",
      "BEAUTY : 513151.88679245283\n",
      "EVENTS : 253542.22222222222\n",
      "MEDICAL : 120550.61980830671\n"
     ]
    }
   ],
   "source": [
    "print(googlePlayAppsPerGenre)\n",
    "print(googlePlayRatingsPerGenre)\n",
    "display_table_descending(avgGooglePlayRatingsPerGenre)"
   ]
  },
  {
   "cell_type": "markdown",
   "id": "939ffdb9-6728-4ba0-a617-320ad093f694",
   "metadata": {},
   "source": [
    "Based purely on these numbers, I'd recommend developing a communication app, video players app, or social (media) app, if developing for the Google Play store. However, the market place for social media apps is already dominated by a few key players, so I'd recommend shooting for a communication app or video player app."
   ]
  },
  {
   "cell_type": "code",
   "execution_count": null,
   "id": "379781c9-903f-437f-a84f-b91270bb177d",
   "metadata": {},
   "outputs": [],
   "source": []
  }
 ],
 "metadata": {
  "kernelspec": {
   "display_name": "Python 3 (ipykernel)",
   "language": "python",
   "name": "python3"
  },
  "language_info": {
   "codemirror_mode": {
    "name": "ipython",
    "version": 3
   },
   "file_extension": ".py",
   "mimetype": "text/x-python",
   "name": "python",
   "nbconvert_exporter": "python",
   "pygments_lexer": "ipython3",
   "version": "3.9.1"
  }
 },
 "nbformat": 4,
 "nbformat_minor": 5
}
